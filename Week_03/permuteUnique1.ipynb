{
 "cells": [
  {
   "cell_type": "code",
   "execution_count": null,
   "metadata": {},
   "outputs": [],
   "source": [
    " def permuteUnique(self, nums: List[int]) -> List[List[int]]:\n",
    "        nums.sort()\n",
    "        self.res = []\n",
    "        check = [0 for i in range(len(nums))]\n",
    "        \n",
    "        self.backtrack([], nums, check)\n",
    "        return self.res\n",
    "        \n",
    "    def backtrack(self, sol, nums, check):\n",
    "        if len(sol) == len(nums):\n",
    "            self.res.append(sol)\n",
    "            return\n",
    "        \n",
    "        for i in range(len(nums)):\n",
    "            if check[i] == 1:\n",
    "                continue\n",
    "            if i > 0 and nums[i] == nums[i-1] and check[i-1] == 0:\n",
    "                continue\n",
    "            check[i] = 1\n",
    "            self.backtrack(sol+[nums[i]], nums, check)\n",
    "            check[i] = 0\n"
   ]
  }
 ],
 "metadata": {
  "kernelspec": {
   "display_name": "Python 3",
   "language": "python",
   "name": "python3"
  },
  "language_info": {
   "codemirror_mode": {
    "name": "ipython",
    "version": 3
   },
   "file_extension": ".py",
   "mimetype": "text/x-python",
   "name": "python",
   "nbconvert_exporter": "python",
   "pygments_lexer": "ipython3",
   "version": "3.6.4"
  }
 },
 "nbformat": 4,
 "nbformat_minor": 2
}
